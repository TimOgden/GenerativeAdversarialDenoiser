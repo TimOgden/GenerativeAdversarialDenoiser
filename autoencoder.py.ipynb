{
 "cells": [
  {
   "cell_type": "code",
   "execution_count": null,
   "metadata": {},
   "outputs": [],
   "source": [
    "import keras\n",
    "from keras.layers import Dense, Flatten, Input\n",
    "from keras.datasets import mnist\n",
    "import numpy as np"
   ]
  },
  {
   "cell_type": "code",
   "execution_count": null,
   "metadata": {},
   "outputs": [],
   "source": [
    "def build_model(middle_nodes = 3):\n",
    "    model = keras.models.Sequential([\n",
    "        Dense(784, activation='relu', input_shape=(784,)),\n",
    "        Dense(128, activation='relu'),\n",
    "        Dense(64, activation='relu'),\n",
    "        Dense(middle_nodes, activation='relu'),\n",
    "        Dense(64, activation='relu'),\n",
    "        Dense(128, activation='relu'),\n",
    "        Dense(784, activation='sigmoid')\n",
    "    ])\n",
    "    model.compile(optimizer='Adam', loss='binary_crossentropy', metrics=['accuracy'])\n",
    "    return model\n",
    "    \n"
   ]
  },
  {
   "cell_type": "code",
   "execution_count": null,
   "metadata": {},
   "outputs": [],
   "source": [
    "def addNoise(images, multiplier=2):\n",
    "    new_images = []\n",
    "    for image in images:\n",
    "        new_image = np.array(image)\n",
    "        noise = np.random.normal(0,multiplier,784)\n",
    "        noise = np.reshape(noise, (28,28))\n",
    "        for r in range(28):\n",
    "            for c in range(28):\n",
    "                new_image[r][c] += noise[r][c]\n",
    "        new_images.append(new_image)\n",
    "    return new_images\n",
    "\n",
    "(x_train, y_train), (x_test, y_test) = mnist.load_data()\n",
    "\n",
    "def import_data():\n",
    "    (x_train, y_train), (x_test, y_test) = mnist.load_data()\n",
    "\n",
    "def getNoisyData():\n",
    "    noisy_x_train = addNoise(x_train)\n",
    "    noisy_x_test = addNoise(x_test)\n",
    "    noisy_x_train = [np.reshape(val,(784,)) for val in noisy_x_train]\n",
    "    noisy_x_test = [np.reshape(val,(784,)) for val in noisy_x_test]\n",
    "    return (noisy_x_train, noisy_x_test)\n",
    "    \n",
    "def getRegularData():\n",
    "    x_train = [np.reshape(val,(784,)) for val in x_train]\n",
    "    x_test = [np.reshape(val,(784,)) for val in x_test]\n",
    "    return (x_train, x_test)"
   ]
  },
  {
   "cell_type": "code",
   "execution_count": null,
   "metadata": {},
   "outputs": [],
   "source": [
    "model = build_model(middle_nodes=28)\n",
    "noisy_x_train, noisy_x_test = getNoisyData()\n",
    "x_train, x_test = getRegularData()\n",
    "try:\n",
    "    model.fit(x=noisy_x_train, y=x_train, epochs=10, verbose=2, validation_data=(noisy_x_test, x_test))\n",
    "except Exception as e:\n",
    "    print(e)\n",
    "    pass"
   ]
  },
  {
   "cell_type": "code",
   "execution_count": null,
   "metadata": {
    "collapsed": true
   },
   "outputs": [],
   "source": []
  }
 ],
 "metadata": {
  "kernelspec": {
   "display_name": "Python 3",
   "language": "python",
   "name": "python3"
  },
  "language_info": {
   "codemirror_mode": {
    "name": "ipython",
    "version": 3
   },
   "file_extension": ".py",
   "mimetype": "text/x-python",
   "name": "python",
   "nbconvert_exporter": "python",
   "pygments_lexer": "ipython3",
   "version": "3.6.3"
  }
 },
 "nbformat": 4,
 "nbformat_minor": 2
}
